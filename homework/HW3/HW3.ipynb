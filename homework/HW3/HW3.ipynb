{
 "cells": [
  {
   "cell_type": "code",
   "execution_count": 1,
   "metadata": {},
   "outputs": [],
   "source": [
    "import math\n",
    "import copy"
   ]
  },
  {
   "cell_type": "code",
   "execution_count": 2,
   "metadata": {},
   "outputs": [],
   "source": [
    "# get inputs\n",
    "\n",
    "file = 'sample_input.txt'\n",
    "file = 'input_b.txt'\n",
    "C = 0.8\n",
    "iterations = 10\n",
    "\n",
    "with open (file) as f:\n",
    "    next(f)\n",
    "    edges = []\n",
    "    users = []\n",
    "    ads = []\n",
    "    for lines in f:\n",
    "        edge = lines.strip().split(',')[0:2]\n",
    "        edges.append(edge)\n",
    "        users.append(edge[0])\n",
    "        ads.append(edge[1])\n",
    "    \n",
    "    users = list(set(users))\n",
    "    ads = list(set(ads))\n",
    "    Q_user = edges[-1][0]\n",
    "    Q_ad = edges[-1][1]\n",
    "    edges = edges[:-1]\n",
    "    f.close()\n",
    "    \n",
    "sim_user = {}\n",
    "sim_ad = {}\n",
    "for u in users:\n",
    "    sim_user[u] = {}\n",
    "    for u1 in users:\n",
    "        if u==u1:\n",
    "            sim_user[u][u1] = 1\n",
    "        else:\n",
    "            sim_user[u][u1] = 0\n",
    "\n",
    "for a in ads:\n",
    "    sim_ad[a] = {}\n",
    "    for a1 in ads:\n",
    "        if a==a1:\n",
    "            sim_ad[a][a1] = 1\n",
    "        else:\n",
    "            sim_ad[a][a1] = 0\n",
    "\n",
    "user_ad = {u:[] for u in users}\n",
    "ad_user = {a:[] for a in ads}\n",
    "for edge in edges:\n",
    "    user_ad[edge[0]].append(edge[1])\n",
    "    ad_user[edge[1]].append(edge[0])"
   ]
  },
  {
   "cell_type": "code",
   "execution_count": 3,
   "metadata": {},
   "outputs": [],
   "source": [
    "def get_item_sim(u1,u2,sim_ad,partial_ad,graph):\n",
    "    sim = 0\n",
    "    u1_ads = graph[u1]\n",
    "    u2_ads = graph[u2]\n",
    "    for u1_ad in u1_ads:\n",
    "        if u2 in partial_ad[u1_ad]:\n",
    "            sim += partial_ad[u1_ad][u2]\n",
    "        else:\n",
    "            add_partial = 0\n",
    "            for u2_ad in u2_ads:\n",
    "                add_partial += sim_ad[u1_ad][u2_ad]\n",
    "                \n",
    "            partial_ad[u1_ad][u2] = add_partial\n",
    "            sim+=add_partial\n",
    "    sim = sim*C/(len(u1_ads)*len(u2_ads))\n",
    "    return sim,partial_ad"
   ]
  },
  {
   "cell_type": "code",
   "execution_count": 4,
   "metadata": {},
   "outputs": [],
   "source": [
    "# start iteration for simple simrank\n",
    "\n",
    "i = 0 \n",
    "while i < iterations:\n",
    "    partial_ad = {a:{} for a in ads}\n",
    "    partial_user = {u:{} for u in users}\n",
    "    for u1 in users:\n",
    "        for u2 in users:\n",
    "            if u1 == u2:\n",
    "                sim_user[u1][u2] = 1\n",
    "            else:\n",
    "                sim_user[u1][u2],partial_ad = get_item_sim(u1,u2,sim_ad,partial_ad,user_ad)\n",
    "                    \n",
    "    for a1 in ads:\n",
    "        for a2 in ads:\n",
    "            if a1 == a2:\n",
    "                sim_ad[a1][a2] = 1\n",
    "            else:\n",
    "                sim_ad[a1][a2],partial_user = get_item_sim(a1,a2,sim_user,partial_user,ad_user)\n",
    "    i+=1"
   ]
  },
  {
   "cell_type": "code",
   "execution_count": 5,
   "metadata": {},
   "outputs": [],
   "source": [
    "def get_evidence(graph,items,evidence_type):\n",
    "    evidence_item = {u:{} for u in items}\n",
    "    for i1 in items:\n",
    "        for i2 in items:\n",
    "            if i1 == i2:\n",
    "                evidence_item[i1][i2] = 1\n",
    "            else:\n",
    "                num_inter = len(list(set(graph[i1])&set(graph[i2])))\n",
    "                if evidence_type == 'geo':\n",
    "                    evidence_item[i1][i2] = sum([1/(2**i) for i in range(1, num_inter+1)])\n",
    "                else:\n",
    "                    evidence_item[i1][i2] = (1-math.exp(-num_inter))\n",
    "    return evidence_item\n",
    "\n",
    "# Evidence (a,b)\n",
    "geo_evidence_user = get_evidence(user_ad,users,evidence_type='geo')\n",
    "geo_evidence_ad = get_evidence(ad_user,ads,evidence_type='geo')\n",
    "exp_evidence_user = get_evidence(user_ad,users,evidence_type='exp')\n",
    "exp_evidence_ad = get_evidence(ad_user,ads,evidence_type='exp')"
   ]
  },
  {
   "cell_type": "code",
   "execution_count": 6,
   "metadata": {},
   "outputs": [],
   "source": [
    "#S_evidence\n",
    "geo_sim_user = copy.deepcopy(sim_user)\n",
    "geo_sim_ad = copy.deepcopy(sim_ad)\n",
    "exp_sim_user = copy.deepcopy(sim_user)\n",
    "exp_sim_ad = copy.deepcopy(sim_ad)\n",
    "\n",
    "for u1 in users:\n",
    "        for u2 in users:\n",
    "            if u1 == u2:\n",
    "                geo_sim_user[u1][u2] = 1\n",
    "                exp_sim_user[u1][u2] = 1\n",
    "            else:\n",
    "                geo_sim_user[u1][u2] *= geo_evidence_user[u1][u2]\n",
    "                exp_sim_user[u1][u2] *= exp_evidence_user[u1][u2]\n",
    "for a1 in ads:\n",
    "        for a2 in ads:\n",
    "            if a1 == a2:\n",
    "                geo_sim_ad[a1][a2] = 1\n",
    "                exp_sim_ad[a1][a2] = 1\n",
    "            else:\n",
    "                geo_sim_ad[a1][a2] *= geo_evidence_ad[a1][a2]\n",
    "                exp_sim_ad[a1][a2] *= exp_evidence_ad[a1][a2]"
   ]
  },
  {
   "cell_type": "code",
   "execution_count": 7,
   "metadata": {},
   "outputs": [],
   "source": [
    "# get similar items\n",
    "def get_similar(sim_item,Q_item):\n",
    "    #sorted_item = sorted(sim_item[Q_item].items(), key = lambda x:x[1],reverse=True)[1:]\n",
    "    sim_rank = {}\n",
    "    for key,sim in sim_item[Q_item].items():\n",
    "        sim = round(sim,4)\n",
    "        if sim not in sim_rank:\n",
    "            sim_rank[sim] = [key]\n",
    "        else:\n",
    "            sim_rank[sim].append(key)\n",
    "        \n",
    "    return sorted(sim_rank.items(), reverse=True)[1:4]\n",
    "\n",
    "def get_top_three(sim_rank):\n",
    "    top = []\n",
    "    for i in range(0,3):\n",
    "        top.append(sorted(sim_rank[i][1], key = lambda x: int(x))[0])\n",
    "\n",
    "    return top"
   ]
  },
  {
   "cell_type": "code",
   "execution_count": 13,
   "metadata": {},
   "outputs": [
    {
     "data": {
      "text/plain": [
       "[(0.4009,\n",
       "  ['389',\n",
       "   '189',\n",
       "   '32',\n",
       "   '34',\n",
       "   '30',\n",
       "   '42',\n",
       "   '191',\n",
       "   '434',\n",
       "   '356',\n",
       "   '202',\n",
       "   '142',\n",
       "   '144',\n",
       "   '264',\n",
       "   '139',\n",
       "   '634',\n",
       "   '447',\n",
       "   '160',\n",
       "   '148',\n",
       "   '207',\n",
       "   '103',\n",
       "   '643',\n",
       "   '436',\n",
       "   '109',\n",
       "   '135',\n",
       "   '15',\n",
       "   '351',\n",
       "   '300',\n",
       "   '38',\n",
       "   '537',\n",
       "   '257',\n",
       "   '555',\n",
       "   '60',\n",
       "   '437',\n",
       "   '315',\n",
       "   '108',\n",
       "   '146',\n",
       "   '610',\n",
       "   '375',\n",
       "   '161',\n",
       "   '75',\n",
       "   '415',\n",
       "   '128',\n",
       "   '702',\n",
       "   '327',\n",
       "   '371',\n",
       "   '355',\n",
       "   '83',\n",
       "   '127',\n",
       "   '310',\n",
       "   '27',\n",
       "   '10',\n",
       "   '89',\n",
       "   '76',\n",
       "   '241',\n",
       "   '255',\n",
       "   '477',\n",
       "   '519',\n",
       "   '353',\n",
       "   '51',\n",
       "   '427',\n",
       "   '157',\n",
       "   '448',\n",
       "   '50']),\n",
       " (0.3281, ['3', '16', '80', '8']),\n",
       " (0.3268,\n",
       "  ['332',\n",
       "   '87',\n",
       "   '126',\n",
       "   '81',\n",
       "   '180',\n",
       "   '55',\n",
       "   '93',\n",
       "   '129',\n",
       "   '168',\n",
       "   '141',\n",
       "   '721',\n",
       "   '37',\n",
       "   '90',\n",
       "   '62',\n",
       "   '48',\n",
       "   '276',\n",
       "   '438',\n",
       "   '156',\n",
       "   '334',\n",
       "   '98',\n",
       "   '5'])]"
      ]
     },
     "execution_count": 13,
     "metadata": {},
     "output_type": "execute_result"
    }
   ],
   "source": [
    "get_similar(geo_sim_ad,Q_ad)"
   ]
  },
  {
   "cell_type": "code",
   "execution_count": 17,
   "metadata": {},
   "outputs": [
    {
     "data": {
      "text/plain": [
       "0.5345862231972373"
      ]
     },
     "execution_count": 17,
     "metadata": {},
     "output_type": "execute_result"
    }
   ],
   "source": [
    "sim_ad[Q_ad]['0']"
   ]
  },
  {
   "cell_type": "code",
   "execution_count": 16,
   "metadata": {},
   "outputs": [
    {
     "data": {
      "text/plain": [
       "-0.05920004935008383"
      ]
     },
     "execution_count": 16,
     "metadata": {},
     "output_type": "execute_result"
    }
   ],
   "source": [
    "geo_sim_ad[Q_ad]['0'] - geo_sim_ad[Q_ad]['17']"
   ]
  },
  {
   "cell_type": "code",
   "execution_count": 9,
   "metadata": {},
   "outputs": [],
   "source": [
    "# get outputs of top 3\n",
    "top_3_sim_user = [user[0] for score,user in get_similar(sim_user,Q_user)]\n",
    "top_3_sim_ad = get_top_three(get_similar(sim_ad,Q_ad))\n",
    "top_3_geo_user = [user[0] for score,user in get_similar(geo_sim_user,Q_user)]\n",
    "top_3_geo_ad = get_top_three(get_similar(geo_sim_ad,Q_ad))\n",
    "top_3_exp_user = [user[0] for score,user in get_similar(exp_sim_user,Q_user)]\n",
    "top_3_exp_ad = get_top_three(get_similar(exp_sim_ad,Q_ad))\n",
    "with open('output_b.txt','w') as f:\n",
    "    f.write(','.join(top_3_sim_user)+'\\n')\n",
    "    f.write(','.join(top_3_sim_ad) + '\\n')\n",
    "    f.write(','.join(top_3_geo_user)+'\\n')\n",
    "    f.write(','.join(top_3_geo_ad) + '\\n')\n",
    "    f.write(','.join(top_3_exp_user)+'\\n')\n",
    "    f.write(','.join(top_3_exp_ad) )\n",
    "    f.close()"
   ]
  }
 ],
 "metadata": {
  "kernelspec": {
   "display_name": "Python 3",
   "language": "python",
   "name": "python3"
  },
  "language_info": {
   "codemirror_mode": {
    "name": "ipython",
    "version": 3
   },
   "file_extension": ".py",
   "mimetype": "text/x-python",
   "name": "python",
   "nbconvert_exporter": "python",
   "pygments_lexer": "ipython3",
   "version": "3.6.8"
  }
 },
 "nbformat": 4,
 "nbformat_minor": 2
}
